{
 "cells": [
  {
   "cell_type": "markdown",
   "metadata": {},
   "source": [
    "## Instrukcje warunkowe\n",
    "\n",
    "Czasem chcielibyśmy, żeby nasz program zrobił coś tylko wtedy, gdy spełniony jest jakiś warunek. Wracając do analogii z pralką - pralka nie wykona wirowania jeśli naciśniemy odpowiedni przycisk. Tego rodzaju funkcję w Pythonie spełniają konstrukcje `if`, `elif` i `else`.\n",
    "\n",
    "### If\n",
    "\n",
    "Jeżeli chcemy, żeby jakiś fragment kodu wykonał się wtedy i tylko wtedy gdy jakiś warunek jest spełniony (ma wartość logiczną `True`), używamy konstrukcji `if`:"
   ]
  },
  {
   "cell_type": "code",
   "execution_count": 71,
   "metadata": {},
   "outputs": [
    {
     "name": "stdout",
     "output_type": "stream",
     "text": [
      "Jest więcej niż 10 papug!\n"
     ]
    }
   ],
   "source": [
    "papugi = 11\n",
    "\n",
    "if papugi > 10:\n",
    "    print(\"Jest więcej niż 10 papug!\")\n",
    "    \n",
    "if papugi < 1:\n",
    "    print(\"Nie ma żadnej papugi. Papuga przestała być.\")"
   ]
  },
  {
   "cell_type": "markdown",
   "metadata": {},
   "source": [
    "Widzimy, że nasz program wykonał instrukcję po pierwszym `if`ie, zignorował zaś instrukcję po drugim. Stało się tak dlatego, że w pierwszej instrukcji jest prawdziwy, a w drugiej nie. Zwróć uwagę na składnię: po warunku mamy dwukropek, kolejna linia zaś zaczyna się od wcięcia (czterech spacji, jednego taba). To wcięcie oznacza *blok kodu*, fragment programu który traktowany jest jak jedna całość przez interpreter Pythona. W tym wypadku blok ma tylko jedną linijkę, ale może mieć dużo więcej, jak na przykładzie poniżej:"
   ]
  },
  {
   "cell_type": "code",
   "execution_count": 4,
   "metadata": {},
   "outputs": [
    {
     "name": "stdout",
     "output_type": "stream",
     "text": [
      "SPAAAAAM!!!\n"
     ]
    }
   ],
   "source": [
    "if \"spam\" != \"eggs\":\n",
    "    spam = \"eggs\"\n",
    "    eggs = \"spam\"\n",
    "    if spam == \"eggs\":\n",
    "        eggs = \"eggs\"\n",
    "        spam = \"spam\"\n",
    "        eggs = spam\n",
    "        if \"eggs\" != spam:\n",
    "            print(\"SPAAAAAM!!!\")"
   ]
  },
  {
   "cell_type": "markdown",
   "metadata": {},
   "source": [
    "### Else\n",
    "\n",
    "Gdy chcemy, żeby program zrobił coś w razie spełnionego warunku, a coś zupełnie innego w przeciwnym wypadku, stosujemy komendę `else`."
   ]
  },
  {
   "cell_type": "code",
   "execution_count": 73,
   "metadata": {},
   "outputs": [
    {
     "name": "stdout",
     "output_type": "stream",
     "text": [
      "And now for something completely different...\n"
     ]
    }
   ],
   "source": [
    "food = \"eggs\"\n",
    "if food == \"spam\":\n",
    "    print(\"SPAAAM!\")\n",
    "else:\n",
    "    print(\"And now for something completely different...\")"
   ]
  },
  {
   "cell_type": "markdown",
   "metadata": {
    "toc-hr-collapsed": true
   },
   "source": [
    "### Elif\n",
    "\n",
    "Jeśli chcemy przetestować wiele warunków po kolei, możemy skorzystać z komendy `elif` (skrót od *else if* czyli *w przedciwnym wypadku, jeżeli...*). W ten sposób tworzymy ciąg instrukcji warunkowych, a jeżeli skończymy na `else` to mamy pewność, że wykona się dokładnie jedna z instrukcji. Przykład poniżej pokazuje, w jaki sposób można wykonać różne fragmenty kodu dla różnych wartości jakiejś zmiennej - jest to bardzo częsta praktyka programistyczna. Uwaga na wcięcia!"
   ]
  },
  {
   "cell_type": "code",
   "execution_count": 74,
   "metadata": {},
   "outputs": [
    {
     "name": "stdout",
     "output_type": "stream",
     "text": [
      "Jestem Sir Robin, nie-tak-odważny-jak-Lancelot!\n"
     ]
    }
   ],
   "source": [
    "imie = \"Robin\"\n",
    "if imie == \"Artur\":\n",
    "    print(\"Jestem Artur, Król Brytonów!\")\n",
    "elif imie == \"Lancelot\":\n",
    "    print(\"Jestem Sir Lancelot, odważny!\")\n",
    "elif imie == \"Robin\":\n",
    "    print(\"Jestem Sir Robin, nie-tak-odważny-jak-Lancelot!\")\n",
    "else:\n",
    "    print(\"Nie bardzo wiem kim jestem...\")"
   ]
  }
 ],
 "metadata": {
  "kernelspec": {
   "display_name": "Python 3",
   "language": "python",
   "name": "python3"
  },
  "language_info": {
   "codemirror_mode": {
    "name": "ipython",
    "version": 3
   },
   "file_extension": ".py",
   "mimetype": "text/x-python",
   "name": "python",
   "nbconvert_exporter": "python",
   "pygments_lexer": "ipython3",
   "version": "3.7.3"
  }
 },
 "nbformat": 4,
 "nbformat_minor": 4
}
