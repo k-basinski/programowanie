{
 "cells": [
  {
   "cell_type": "markdown",
   "metadata": {},
   "source": [
    "# Listy\n",
    "\n",
    "W Pythonie możemy przechowywać w jednej zmiennej wiele rzeczy. Służą do tego (między innymi) listy. Lista to uporządkowany zbiór wartości. Każda wartość ma swój indeks liczbowy. W Pythonie indeksy numerujemy kolejnymi liczbami całkowitymi od zera. Listę definiujemy w ten sposób:"
   ]
  },
  {
   "cell_type": "code",
   "execution_count": 75,
   "metadata": {},
   "outputs": [],
   "source": [
    "lista = ['jabłko', 'gruszka', 'śliwka', 'morela', 'ananas', 'pomarańcza']"
   ]
  },
  {
   "cell_type": "markdown",
   "metadata": {},
   "source": [
    "Aby dostać się do elementów na liście, wystarczy po jej nazwie podać indeks w nawiasach kwadratowych. Pamiętaj! Listy numerujemy **od zera!**"
   ]
  },
  {
   "cell_type": "code",
   "execution_count": 76,
   "metadata": {},
   "outputs": [
    {
     "data": {
      "text/plain": [
       "'jabłko'"
      ]
     },
     "execution_count": 76,
     "metadata": {},
     "output_type": "execute_result"
    }
   ],
   "source": [
    "lista[0]"
   ]
  },
  {
   "cell_type": "code",
   "execution_count": 77,
   "metadata": {},
   "outputs": [
    {
     "data": {
      "text/plain": [
       "'gruszka'"
      ]
     },
     "execution_count": 77,
     "metadata": {},
     "output_type": "execute_result"
    }
   ],
   "source": [
    "lista[1]"
   ]
  },
  {
   "cell_type": "code",
   "execution_count": 78,
   "metadata": {},
   "outputs": [
    {
     "data": {
      "text/plain": [
       "'śliwka'"
      ]
     },
     "execution_count": 78,
     "metadata": {},
     "output_type": "execute_result"
    }
   ],
   "source": [
    "lista[2]"
   ]
  },
  {
   "cell_type": "markdown",
   "metadata": {},
   "source": [
    "Możemy też zastosować ujemne indeksy. Wtedy Python policzy je od końca listy:"
   ]
  },
  {
   "cell_type": "code",
   "execution_count": 79,
   "metadata": {},
   "outputs": [
    {
     "data": {
      "text/plain": [
       "'pomarańcza'"
      ]
     },
     "execution_count": 79,
     "metadata": {},
     "output_type": "execute_result"
    }
   ],
   "source": [
    "lista[-1]"
   ]
  },
  {
   "cell_type": "code",
   "execution_count": 80,
   "metadata": {},
   "outputs": [
    {
     "data": {
      "text/plain": [
       "'morela'"
      ]
     },
     "execution_count": 80,
     "metadata": {},
     "output_type": "execute_result"
    }
   ],
   "source": [
    "lista[-3]"
   ]
  },
  {
   "cell_type": "markdown",
   "metadata": {},
   "source": [
    "Można też wybrać podzbiór listy, przy pomocy takiego zapisu:"
   ]
  },
  {
   "cell_type": "code",
   "execution_count": 81,
   "metadata": {},
   "outputs": [
    {
     "data": {
      "text/plain": [
       "['jabłko', 'gruszka', 'śliwka']"
      ]
     },
     "execution_count": 81,
     "metadata": {},
     "output_type": "execute_result"
    }
   ],
   "source": [
    "lista[0:3]"
   ]
  },
  {
   "cell_type": "markdown",
   "metadata": {},
   "source": [
    "Działa to tak, że po lewej stronie dwukropka podajemy indeks początkowy a po prawej końcowy, ale *rozłącznie*. Kilka przykładów:"
   ]
  },
  {
   "cell_type": "code",
   "execution_count": 82,
   "metadata": {},
   "outputs": [
    {
     "data": {
      "text/plain": [
       "['śliwka', 'morela', 'ananas']"
      ]
     },
     "execution_count": 82,
     "metadata": {},
     "output_type": "execute_result"
    }
   ],
   "source": [
    "lista[2:5] # czyli pozycje 2, 3 i 4"
   ]
  },
  {
   "cell_type": "code",
   "execution_count": 83,
   "metadata": {},
   "outputs": [
    {
     "data": {
      "text/plain": [
       "['ananas']"
      ]
     },
     "execution_count": 83,
     "metadata": {},
     "output_type": "execute_result"
    }
   ],
   "source": [
    "lista[4:5] # tylko pozycja 4"
   ]
  },
  {
   "cell_type": "code",
   "execution_count": 84,
   "metadata": {},
   "outputs": [
    {
     "data": {
      "text/plain": [
       "['gruszka', 'śliwka', 'morela', 'ananas']"
      ]
     },
     "execution_count": 84,
     "metadata": {},
     "output_type": "execute_result"
    }
   ],
   "source": [
    "lista[1:-1] # od pozycji 1 do przedostatniej"
   ]
  },
  {
   "cell_type": "markdown",
   "metadata": {},
   "source": [
    "Można też nie podawać indeksu po jednej ze stron dwukropka. Wtedy Python wybierze wszystkie elementy od początku/do końca listy, tak jak poniżej:"
   ]
  },
  {
   "cell_type": "code",
   "execution_count": 85,
   "metadata": {},
   "outputs": [
    {
     "data": {
      "text/plain": [
       "['jabłko', 'gruszka', 'śliwka']"
      ]
     },
     "execution_count": 85,
     "metadata": {},
     "output_type": "execute_result"
    }
   ],
   "source": [
    "lista[:3]"
   ]
  },
  {
   "cell_type": "code",
   "execution_count": 86,
   "metadata": {},
   "outputs": [
    {
     "data": {
      "text/plain": [
       "['morela', 'ananas', 'pomarańcza']"
      ]
     },
     "execution_count": 86,
     "metadata": {},
     "output_type": "execute_result"
    }
   ],
   "source": [
    "lista[3:]"
   ]
  },
  {
   "cell_type": "code",
   "execution_count": 87,
   "metadata": {},
   "outputs": [
    {
     "data": {
      "text/plain": [
       "['jabłko', 'gruszka', 'śliwka', 'morela', 'ananas', 'pomarańcza']"
      ]
     },
     "execution_count": 87,
     "metadata": {},
     "output_type": "execute_result"
    }
   ],
   "source": [
    "lista[:]"
   ]
  },
  {
   "cell_type": "markdown",
   "metadata": {},
   "source": [
    "**Ciekawostka:** okazuje się, że tak samo jak listy możemy kroić zwykłe napisy. Działa to, ponieważ `string` w Pythonie jest uporządkowaną sekwencją. Możemy więc napisać tak:"
   ]
  },
  {
   "cell_type": "code",
   "execution_count": 88,
   "metadata": {},
   "outputs": [
    {
     "data": {
      "text/plain": [
       "'Brzęczy'"
      ]
     },
     "execution_count": 88,
     "metadata": {},
     "output_type": "execute_result"
    }
   ],
   "source": [
    "nazwisko = \"Brzęczyszczykiewicz\"\n",
    "nazwisko[:7]"
   ]
  },
  {
   "cell_type": "code",
   "execution_count": 89,
   "metadata": {},
   "outputs": [
    {
     "data": {
      "text/plain": [
       "'szczy'"
      ]
     },
     "execution_count": 89,
     "metadata": {},
     "output_type": "execute_result"
    }
   ],
   "source": [
    "nazwisko[7:12]"
   ]
  },
  {
   "cell_type": "code",
   "execution_count": 90,
   "metadata": {},
   "outputs": [
    {
     "data": {
      "text/plain": [
       "'kiewicz'"
      ]
     },
     "execution_count": 90,
     "metadata": {},
     "output_type": "execute_result"
    }
   ],
   "source": [
    "nazwisko[12:]"
   ]
  },
  {
   "cell_type": "markdown",
   "metadata": {},
   "source": [
    "## Operacje na listach\n",
    "\n",
    "Na listach możemy wykonywać różne operacje. Możemy dodawać nowe elementy, usuwać elementy istniejące, sortować listy i robić wiele innych rzeczy. W tym celu będziemy korzystać z **metod**. O metodach będziemy się jeszcze uczyć, na tą chwilę wystarczy tylko wiedzieć, że są to funkcje które *należą* do zmiennej. Odwołujemy się do nich poprzez zapis w postaci `nazwa_zmiennej.nazwa_metody(argumenty)`. \n",
    "\n",
    "Żeby dodać do istniejącej listy element na jej koniec, korzystamy z metody `append()`."
   ]
  },
  {
   "cell_type": "code",
   "execution_count": 91,
   "metadata": {},
   "outputs": [
    {
     "data": {
      "text/plain": [
       "['Święty Graal', 'Sens Życia', 'Żywot Briana']"
      ]
     },
     "execution_count": 91,
     "metadata": {},
     "output_type": "execute_result"
    }
   ],
   "source": [
    "filmy = ['Święty Graal', 'Sens Życia']\n",
    "filmy.append('Żywot Briana')\n",
    "filmy"
   ]
  },
  {
   "cell_type": "markdown",
   "metadata": {},
   "source": [
    "Aby dorzucić do listy element w konkretnym jej miejscu, korzystamy z metody `insert()`. Oczywiście indeksy numerowane są od zera, więc wstawienie elementu z indeksem 1 zaskutkuje umieszczeniem go na drugiej pozycji na liście."
   ]
  },
  {
   "cell_type": "code",
   "execution_count": 92,
   "metadata": {},
   "outputs": [
    {
     "data": {
      "text/plain": [
       "['Święty Graal',\n",
       " 'And now for something completely different',\n",
       " 'Sens Życia',\n",
       " 'Żywot Briana']"
      ]
     },
     "execution_count": 92,
     "metadata": {},
     "output_type": "execute_result"
    }
   ],
   "source": [
    "filmy.insert(1, 'And now for something completely different')\n",
    "filmy"
   ]
  },
  {
   "cell_type": "markdown",
   "metadata": {},
   "source": [
    "Aby usunąć element z listy, stosujemy metodę `pop()`. Jako argument podajemy indeks elementu, który chcemy usunąć. Jako bonus, metoda `pop()` zwraca to, co usunęliśmy."
   ]
  },
  {
   "cell_type": "code",
   "execution_count": 93,
   "metadata": {},
   "outputs": [
    {
     "data": {
      "text/plain": [
       "'Sens Życia'"
      ]
     },
     "execution_count": 93,
     "metadata": {},
     "output_type": "execute_result"
    }
   ],
   "source": [
    "filmy.pop(2)"
   ]
  },
  {
   "cell_type": "markdown",
   "metadata": {},
   "source": [
    "Możemy też usunąć element podając jego nazwę. Służy do tego metoda `remove()`. "
   ]
  },
  {
   "cell_type": "code",
   "execution_count": 94,
   "metadata": {},
   "outputs": [
    {
     "data": {
      "text/plain": [
       "['And now for something completely different', 'Żywot Briana']"
      ]
     },
     "execution_count": 94,
     "metadata": {},
     "output_type": "execute_result"
    }
   ],
   "source": [
    "filmy.remove(\"Święty Graal\")\n",
    "filmy"
   ]
  },
  {
   "cell_type": "markdown",
   "metadata": {},
   "source": [
    "Listy możemy sortować za pomocą metody `sort()`. Jeśli, tak jak w poniższym przykładzie, lista składa się z liczb, Python posortuje ją od najmniejszej do największej. Jeśli lista składa się ze stringów, sortowanie jest alfabetyczne. Metoda `reverse()` odwraca kolejność elementów na liście."
   ]
  },
  {
   "cell_type": "code",
   "execution_count": 95,
   "metadata": {},
   "outputs": [
    {
     "name": "stdout",
     "output_type": "stream",
     "text": [
      "liczby po posortowaniu: [-400, -2, 1, 3, 7, 19, 25, 123, 1233]\n",
      "liczby po odwróceniu [1233, 123, 25, 19, 7, 3, 1, -2, -400]\n"
     ]
    }
   ],
   "source": [
    "liczby = [1, 7, -400, 19, 3, 25, 123, 1233, -2]\n",
    "liczby.sort()\n",
    "print(\"liczby po posortowaniu:\", liczby)\n",
    "liczby.reverse()\n",
    "print(\"liczby po odwróceniu\", liczby)"
   ]
  },
  {
   "cell_type": "markdown",
   "metadata": {},
   "source": [
    "## Listy list*\n",
    "\n",
    "Skoro na liście mogą znaleźć się elementy różnych typów, nic nie stoi na przeszkodzie aby jako elementy na liście umieścić inne listy. W ten sposób możemy stworzyć strukturę danych przypominającą tabelę. W poniższym przykładzie zmieniłem listę `filmy` tak, by jej pierwszym elementem była lista z tytułami filmów, a drugim lista z rokiem powstania każego z filmów."
   ]
  },
  {
   "cell_type": "code",
   "execution_count": 96,
   "metadata": {},
   "outputs": [
    {
     "data": {
      "text/plain": [
       "[['Święty Graal',\n",
       "  'And now for something completely different',\n",
       "  'Sens Życia',\n",
       "  'Żywot Briana'],\n",
       " [1975, 1971, 1983, 1979]]"
      ]
     },
     "execution_count": 96,
     "metadata": {},
     "output_type": "execute_result"
    }
   ],
   "source": [
    "filmy = [\n",
    "    ['Święty Graal', 'And now for something completely different', 'Sens Życia', 'Żywot Briana'],\n",
    "    [1975, 1971, 1983, 1979]\n",
    "]\n",
    "filmy"
   ]
  },
  {
   "cell_type": "markdown",
   "metadata": {},
   "source": [
    "Elementy na liście list możemy wybierać tak samo jak w zwykłej liście, tylko zamiast jednego potrzebujemy dwóch indeksów. Najpierw podajemy indeks listy \"zewnętrznej\", a później \"wewnętrznej\". Na przykład:"
   ]
  },
  {
   "cell_type": "code",
   "execution_count": 97,
   "metadata": {},
   "outputs": [
    {
     "name": "stdout",
     "output_type": "stream",
     "text": [
      "Film Żywot Briana powstał w 1979\n",
      "Film Święty Graal powstał w 1975\n"
     ]
    }
   ],
   "source": [
    "print(\"Film\", filmy[0][3], \"powstał w\", filmy[1][3])\n",
    "print(\"Film\", filmy[0][0], \"powstał w\", filmy[1][0])"
   ]
  }
 ],
 "metadata": {
  "kernelspec": {
   "display_name": "Python 3",
   "language": "python",
   "name": "python3"
  },
  "language_info": {
   "codemirror_mode": {
    "name": "ipython",
    "version": 3
   },
   "file_extension": ".py",
   "mimetype": "text/x-python",
   "name": "python",
   "nbconvert_exporter": "python",
   "pygments_lexer": "ipython3",
   "version": "3.7.3"
  }
 },
 "nbformat": 4,
 "nbformat_minor": 4
}